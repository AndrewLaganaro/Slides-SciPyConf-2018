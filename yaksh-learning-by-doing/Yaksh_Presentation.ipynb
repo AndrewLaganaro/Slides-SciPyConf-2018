{
 "cells": [
  {
   "cell_type": "markdown",
   "metadata": {
    "slideshow": {
     "slide_type": "slide"
    }
   },
   "source": [
    "# Yaksh: facilitating learning by doing\n",
    "\n",
    "## Prathamesh, Hardik, Aditya, Ankit, Mahesh, Prabhu\n",
    "\n",
    "\n",
    "\n",
    "**FOSSEE**\n",
    "\n",
    "**IIT Bombay, India**\n",
    "\n",
    "\n",
    "![fossee logo](logo.png)   \n"
   ]
  },
  {
   "cell_type": "markdown",
   "metadata": {
    "slideshow": {
     "slide_type": "slide"
    }
   },
   "source": [
    "<center>\n",
    "    ![team](fossee_py_team.jpg)\n",
    "</center>"
   ]
  },
  {
   "cell_type": "markdown",
   "metadata": {
    "slideshow": {
     "slide_type": "slide"
    }
   },
   "source": [
    "## FOSSEE\n",
    "\n",
    "- *Free Open Source Software for Education*\n",
    "- Increase use of FOSS in education\n",
    "- Minimise use of commercial software in education\n",
    " \n",
    "- **Funded by MHRD, Govt. India (National Mission on Education through ICT)**\n",
    "\n",
    "- Started in 2009\n",
    "- Talks at SciPy 2016 etc.\n",
    "- See https://fossee.in"
   ]
  },
  {
   "cell_type": "markdown",
   "metadata": {
    "slideshow": {
     "slide_type": "slide"
    }
   },
   "source": [
    "## See the paper\n",
    "\n",
    "http://conference.scipy.org/proceedings/scipy2018/yaksh.html\n",
    "\n"
   ]
  },
  {
   "cell_type": "markdown",
   "metadata": {
    "slideshow": {
     "slide_type": "slide"
    }
   },
   "source": [
    "## Motivation: an Indian context\n",
    "\n",
    ">  Only 5% of CSE graduate students are able to write programs with correct logic!\n",
    ">\n"
   ]
  },
  {
   "cell_type": "markdown",
   "metadata": {
    "slideshow": {
     "slide_type": "slide"
    }
   },
   "source": [
    "## Problems with education\n",
    "\n",
    "- Programming isn't just about syntax\n",
    "- Have to write programs\n",
    "- Need feedback!\n",
    "- Learn better by doing\n"
   ]
  },
  {
   "cell_type": "markdown",
   "metadata": {
    "slideshow": {
     "slide_type": "slide"
    }
   },
   "source": [
    "## Experiences teaching\n",
    "\n",
    "- Taught students programming\n",
    "- Gave them exercises\n",
    "- Hands on\n",
    "- Homework\n",
    "- Didn't \"test\" them"
   ]
  },
  {
   "cell_type": "markdown",
   "metadata": {
    "slideshow": {
     "slide_type": "slide"
    }
   },
   "source": [
    "## But ...\n",
    "\n",
    "- They did not really \"get it\"\n",
    "- Students don't always do what you tell them, do they?\n"
   ]
  },
  {
   "cell_type": "markdown",
   "metadata": {
    "slideshow": {
     "slide_type": "slide"
    }
   },
   "source": [
    "## As a teacher\n",
    "\n",
    "- Did not get \"feedback\" on \"performance\"\n",
    "- Do not want to kill my TAs!\n"
   ]
  },
  {
   "cell_type": "markdown",
   "metadata": {
    "slideshow": {
     "slide_type": "slide"
    }
   },
   "source": [
    "## Measuring performance in a non-threatening way is useful!"
   ]
  },
  {
   "cell_type": "markdown",
   "metadata": {
    "slideshow": {
     "slide_type": "slide"
    }
   },
   "source": [
    "## Teaching\n",
    "\n",
    "- No one enjoys grading!\n",
    "- OK to hand-hold 20 people\n",
    "- How about 500?\n"
   ]
  },
  {
   "cell_type": "markdown",
   "metadata": {
    "slideshow": {
     "slide_type": "slide"
    }
   },
   "source": [
    "## History\n",
    "\n",
    "- 1000 teacher course in 2011\n",
    "- Wanted to \"test\" them to offer a cerficate\n",
    "- A Django app to automate the testing"
   ]
  },
  {
   "cell_type": "markdown",
   "metadata": {
    "slideshow": {
     "slide_type": "slide"
    }
   },
   "source": [
    "## Yaksh\n",
    "\n",
    "<center>\n",
    "![yaksh logo](yaksh_logo.png)\n",
    "</center>\n",
    "\n",
    "<center>\n",
    "https://github.com/FOSSEE/online_test\n",
    "</center>\n",
    "\n",
    "<center>    \n",
    "https://yaksh.fossee.in\n",
    "</center>\n",
    "\n",
    "<center>    \n",
    "https://yaksh-demo.fossee.in/exam\n",
    "</center>\n",
    "\n"
   ]
  },
  {
   "cell_type": "markdown",
   "metadata": {
    "slideshow": {
     "slide_type": "slide"
    }
   },
   "source": [
    "\n",
    "## Yaksh\n",
    "\n",
    "\n",
    "- Open Source Django App\n",
    "- Create online courses\n",
    "  - Lessons \n",
    "  - Practice exercises \n",
    "  - Quizzes\n",
    "- Python, C, C++, Java, Bash, Scilab\n",
    "\n"
   ]
  },
  {
   "cell_type": "markdown",
   "metadata": {
    "slideshow": {
     "slide_type": "slide"
    }
   },
   "source": [
    "## Question types\n",
    "\n",
    "- Programming questions\n",
    "  - Standard input/output\n",
    "  - Test cases in Python\n",
    "- MCQs\n",
    "- Fill in the blanks\n",
    "- Arrange jumbled options \n",
    "- Assignment upload"
   ]
  },
  {
   "cell_type": "markdown",
   "metadata": {
    "slideshow": {
     "slide_type": "slide"
    }
   },
   "source": [
    "\n",
    "## Why should you use it?\n",
    "\n",
    "- Easy setup\n",
    "- Provides automatic and manual grading\n",
    "- Provides instant feedback to students' submissions\n",
    "- Provides almost real time monitoring of course sessions\n",
    "- Scales to over 500+ simultaneous users\n"
   ]
  },
  {
   "cell_type": "markdown",
   "metadata": {
    "slideshow": {
     "slide_type": "slide"
    }
   },
   "source": [
    "## Yaksh usage\n",
    "\n",
    "- Instructor interface\n",
    "- Student interface\n",
    "\n"
   ]
  },
  {
   "cell_type": "markdown",
   "metadata": {
    "slideshow": {
     "slide_type": "slide"
    }
   },
   "source": [
    "## Setup\n",
    "\n",
    "- Easy installation and deployment\n",
    "- Full docker support\n",
    "- Supports docker compose for production"
   ]
  },
  {
   "cell_type": "markdown",
   "metadata": {
    "slideshow": {
     "slide_type": "slide"
    }
   },
   "source": [
    "## Local installation\n",
    "\n"
   ]
  },
  {
   "cell_type": "code",
   "execution_count": null,
   "metadata": {},
   "outputs": [],
   "source": [
    "$ git clone https://github.com/FOSSEE/online_test.git\n",
    "$ cd online_test\n",
    "$ pip install -r requirements/requirements-common.txt"
   ]
  },
  {
   "cell_type": "markdown",
   "metadata": {
    "slideshow": {
     "slide_type": "slide"
    }
   },
   "source": [
    "## Local setup\n",
    "\n"
   ]
  },
  {
   "cell_type": "code",
   "execution_count": null,
   "metadata": {},
   "outputs": [],
   "source": [
    "$ invoke start\n",
    "$ invoke serve\n",
    "$ open http://localhost:8000/exam"
   ]
  },
  {
   "cell_type": "markdown",
   "metadata": {},
   "source": [
    "- Login as student (same pass)\n",
    "- Login as teacher (same pass)"
   ]
  },
  {
   "cell_type": "markdown",
   "metadata": {
    "slideshow": {
     "slide_type": "slide"
    }
   },
   "source": [
    "## Live demo"
   ]
  },
  {
   "cell_type": "markdown",
   "metadata": {
    "slideshow": {
     "slide_type": "slide"
    }
   },
   "source": [
    "\n",
    "## Demo!\n",
    "\n",
    "- Visit: https://yaksh-demo.fossee.in/exam\n",
    "- Students: student1 to student50 (same password)\n",
    "- Teachers: teacher1 to teacher50 (same password) \n",
    "- Caveat about repeated logins!\n"
   ]
  },
  {
   "cell_type": "markdown",
   "metadata": {
    "slideshow": {
     "slide_type": "slide"
    }
   },
   "source": [
    "\n",
    "## Yaksh Workflow\n",
    "\n",
    "\n",
    "![fossee logo](flow_diagram.png)\n",
    "\n"
   ]
  },
  {
   "cell_type": "markdown",
   "metadata": {
    "slideshow": {
     "slide_type": "slide"
    }
   },
   "source": [
    "\n",
    "## Experiences with Yaksh\n",
    "\n",
    "- Python workshops (https://python-workshops.fossee.in)\n",
    "- Courses at IIT Bombay\n",
    "- Recruitment tests\n",
    "- Self-learning workshops"
   ]
  },
  {
   "cell_type": "markdown",
   "metadata": {
    "slideshow": {
     "slide_type": "slide"
    }
   },
   "source": [
    "\n",
    "## Demographics\n",
    "\n",
    "- Total 13000+ active users\n",
    "- 100+ Institutes trained\n",
    "- 6000+ users obtained certificates\n",
    "\n",
    "| ![gender demo](yaksh_gender_demographics.png)  | ![age demo](yaksh_age_demographics.png) |\n",
    "|:---:|:---:|\n",
    "| <center>Gender Demographics</center> | <center>Age Demographics</center> |"
   ]
  },
  {
   "cell_type": "markdown",
   "metadata": {
    "slideshow": {
     "slide_type": "slide"
    }
   },
   "source": [
    "\n",
    "## Future Plans\n",
    "\n",
    "- Provide a stable Web API\n",
    "- Detailed analysis report for students and moderators\n",
    "- Chat Support\n",
    "- Provide Offline support\n",
    "- Improve UI/UX"
   ]
  },
  {
   "cell_type": "markdown",
   "metadata": {
    "slideshow": {
     "slide_type": "slide"
    }
   },
   "source": [
    "\n",
    "## Thank you!\n",
    "\n",
    "- Demo at https://yaksh-demo.fossee.in\n",
    "- Live courses at http://yaksh.fossee.in\n",
    "- Project: https://github.com/FOSSEE/online_test\n",
    "\n",
    "- Documentation https://yaksh.readthedocs.io/en/latest/\n",
    "\n",
    "- File issues, send us PRs\n",
    "- Happy to help!\n"
   ]
  }
 ],
 "metadata": {
  "celltoolbar": "Slideshow",
  "kernelspec": {
   "display_name": "Python 3",
   "language": "python",
   "name": "python3"
  },
  "language_info": {
   "codemirror_mode": {
    "name": "ipython",
    "version": 3
   },
   "file_extension": ".py",
   "mimetype": "text/x-python",
   "name": "python",
   "nbconvert_exporter": "python",
   "pygments_lexer": "ipython3",
   "version": "3.6.0"
  }
 },
 "nbformat": 4,
 "nbformat_minor": 2
}
